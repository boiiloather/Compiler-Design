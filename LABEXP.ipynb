{
 "cells": [
  {
   "cell_type": "code",
   "execution_count": 39,
   "id": "86a899c9-4f3e-47a1-beeb-d1f5bdb0ea3f",
   "metadata": {},
   "outputs": [
    {
     "name": "stdout",
     "output_type": "stream",
     "text": [
      "Optimal value: 3\n"
     ]
    }
   ],
   "source": [
    "def minimax(depth, node_index, is_maximizing, scores, height):\n",
    "    if depth == height:  \n",
    "        return scores[node_index]\n",
    "    \n",
    "    if is_maximizing:  \n",
    "        return max(minimax(depth + 1, node_index * 2, False, scores, height),\n",
    "                   minimax(depth + 1, node_index * 2 + 1, False, scores, height))\n",
    "    else:  \n",
    "        return min(minimax(depth + 1, node_index * 2, True, scores, height),\n",
    "                   minimax(depth + 1, node_index * 2 + 1, True, scores, height))\n",
    "\n",
    "scores = [2, 3, 6, 19, 7, 3, 0, -10]\n",
    "height = 3  \n",
    "\n",
    "print(\"Optimal value:\", minimax(0, 0, True, scores, height))\n",
    "\n",
    "\n",
    "\n",
    "\n",
    "\n",
    "\n",
    "\n",
    "\n",
    "\n",
    "\n",
    "\n",
    "\n",
    "\n",
    "\n",
    "\n",
    "\n",
    "\n"
   ]
  },
  {
   "cell_type": "code",
   "execution_count": 19,
   "id": "6b9b8853-32fa-4cef-be39-aa8ee066b840",
   "metadata": {},
   "outputs": [
    {
     "name": "stdout",
     "output_type": "stream",
     "text": [
      ". Q . . \n",
      ". . . Q \n",
      "Q . . . \n",
      ". . Q . \n",
      "\n",
      ". . Q . \n",
      "Q . . . \n",
      ". . . Q \n",
      ". Q . . \n",
      "\n"
     ]
    }
   ],
   "source": [
    "def print_board(board, n):\n",
    "    for row in range(n):\n",
    "        for col in range(n):\n",
    "            if board[row] == col:\n",
    "                print(\"Q\", end=\" \")\n",
    "            else:\n",
    "                print(\".\", end=\" \")\n",
    "        print()\n",
    "    print()\n",
    "\n",
    "def is_safe(board, row, col):\n",
    "    for i in range(row):\n",
    "        if board[i] == col or abs(board[i] - col) == abs(i - row):\n",
    "            return False\n",
    "    return True\n",
    "\n",
    "def solve_n_queens(n, row=0, board=[]):\n",
    "    if row == n:\n",
    "        print_board(board, n)\n",
    "        return\n",
    "    \n",
    "    for col in range(n):\n",
    "        if is_safe(board, row, col):\n",
    "            board.append(col)\n",
    "            solve_n_queens(n, row + 1, board)\n",
    "            board.pop()\n",
    "\n",
    "solve_n_queens(4)\n"
   ]
  },
  {
   "cell_type": "code",
   "execution_count": 40,
   "id": "8c16c9ba-630b-46fa-8dfb-789876a5174f",
   "metadata": {},
   "outputs": [
    {
     "data": {
      "text/plain": [
       "['A', 'B', 'C', 'D', 'E']"
      ]
     },
     "execution_count": 40,
     "metadata": {},
     "output_type": "execute_result"
    }
   ],
   "source": [
    "from collections import deque\n",
    "\n",
    "def bfs(graph,start):\n",
    "    visited=set([start])\n",
    "    queue=deque([start])\n",
    "    result=[]\n",
    "\n",
    "    while queue:\n",
    "        node=queue.popleft()\n",
    "        result.append(node)\n",
    "\n",
    "        for neighbour in graph[node]:\n",
    "            if neighbour not in visited:\n",
    "                visited.add(neighbour)\n",
    "                queue.append(neighbour)\n",
    "    return result\n",
    "\n",
    "graph={\n",
    "    'A':['B','C'],\n",
    "    'B': ['D'],\n",
    "    'C': ['E'],\n",
    "    'D': [],\n",
    "    'E': []\n",
    "}\n",
    "bfs(graph,'A')\n",
    "\n",
    "\n",
    "\n",
    "\n",
    "\n",
    "\n"
   ]
  },
  {
   "cell_type": "code",
   "execution_count": 41,
   "id": "15b8c8e2-6c14-4941-ab54-094ff27b8d77",
   "metadata": {},
   "outputs": [
    {
     "data": {
      "text/plain": [
       "['A', 'C', 'E', 'B', 'D']"
      ]
     },
     "execution_count": 41,
     "metadata": {},
     "output_type": "execute_result"
    }
   ],
   "source": [
    "def dfs(graph,start):\n",
    "    visited=set()\n",
    "    stack=[start]\n",
    "    result=[]\n",
    "\n",
    "    while stack:\n",
    "        node=stack.pop()\n",
    "        \n",
    "        if node not in stack:\n",
    "            visited.add(node)\n",
    "            result.append(node)\n",
    "\n",
    "        for neighbour in graph[node]:\n",
    "            if neighbour not in visited:\n",
    "                stack.append(neighbour)\n",
    "    return result\n",
    "graph={\n",
    "    'A':['B','C'],\n",
    "    'B': ['D'],\n",
    "    'C': ['E'],\n",
    "    'D': [],\n",
    "    'E': []\n",
    "}\n",
    "dfs(graph,'A')   \n",
    "\n",
    "\n",
    "\n",
    "\n",
    "\n",
    "\n",
    "\n"
   ]
  },
  {
   "cell_type": "code",
   "execution_count": 52,
   "id": "d8dc7e93-2af5-4948-b7ad-69ef65a78374",
   "metadata": {},
   "outputs": [
    {
     "name": "stdout",
     "output_type": "stream",
     "text": [
      "[(0, 0), (0, 5), (3, 2), (0, 2), (2, 0), (2, 5), (3, 4)]\n"
     ]
    }
   ],
   "source": [
    "from collections import deque\n",
    "\n",
    "def wat_jug(jug1_cap,jug2_cap,target):\n",
    "    visited=set()\n",
    "    queue=deque([(0,0,[])])\n",
    "\n",
    "    while queue:\n",
    "        jug1,jug2,path=queue.popleft()\n",
    "        \n",
    "        if jug1==target or jug2==target:\n",
    "            return path + [(jug1,jug2)]\n",
    "\n",
    "        if (jug1,jug2) in visited:\n",
    "            continue\n",
    "\n",
    "        visited.add((jug1,jug2))\n",
    "        path=path+[(jug1,jug2)]\n",
    "\n",
    "        queue.append((jug1_cap,jug2,path))\n",
    "        queue.append((jug1,jug2_cap,path))\n",
    "        queue.append((0,jug2,path))\n",
    "        queue.append((jug1,0,path))\n",
    "        pour=min(jug1,jug2_cap-jug2)\n",
    "        queue.append((jug1-pour,jug2+pour,path))\n",
    "        pour=min(jug2,jug1_cap-jug1)\n",
    "        queue.append((jug1+pour,jug2-pour,path))\n",
    "    return \"No Solution\"\n",
    "res=wat_jug(3,5,4)\n",
    "print(res)    \n",
    "            "
   ]
  },
  {
   "cell_type": "code",
   "execution_count": 57,
   "id": "5dbac8bf-08f5-4380-8be0-f70452a3dc36",
   "metadata": {},
   "outputs": [
    {
     "name": "stdout",
     "output_type": "stream",
     "text": [
      "Optimal value: 3\n"
     ]
    }
   ],
   "source": [
    "MAX,MIN=1000,-1000\n",
    "\n",
    "def minmax(depth ,node_index, is_maximizing, scores, alpha, beta):\n",
    "    if depth==3:\n",
    "        return scores[node_index]\n",
    "\n",
    "    best=MIN if is_maximizing else MAX\n",
    "\n",
    "    for i in range(2):\n",
    "        val=minmax(depth+1,node_index*2+i, not is_maximizing, scores, alpha,beta)\n",
    "        best=max(best,val) if is_maximizing else min(best,val)\n",
    "        alpha,beta = (max(alpha,best),beta) if is_maximizing else (alpha, min(beta,best))\n",
    "        if beta<=alpha:\n",
    "            break\n",
    "    return\n",
    "\n",
    "scores = [2, 3, 6, 19, 7, 3, 0, -10]\n",
    "\n",
    "print(\"Optimal value:\", minimax(0, 0, True, scores, MIN,MAX))"
   ]
  },
  {
   "cell_type": "code",
   "execution_count": 69,
   "id": "878180b0-955d-4d61-be9e-34588e662a27",
   "metadata": {},
   "outputs": [
    {
     "name": "stdout",
     "output_type": "stream",
     "text": [
      "Path: [(0, 0), (1, 0), (1, 1)]\n"
     ]
    }
   ],
   "source": [
    "import heapq\n",
    "\n",
    "def a_star(graph,start,goal,h):\n",
    "    open_list = []\n",
    "    heapq.heappush(open_list,(0,start))\n",
    "    g_cost = {start:0}\n",
    "    parent = {start:None}\n",
    "    closed_set = set()\n",
    "\n",
    "    while open_list:\n",
    "        current_f,current_node = heapq.heappop(open_list)\n",
    "\n",
    "        if current_node == goal:\n",
    "            path = []\n",
    "            while current_node:\n",
    "                path.append(current_node)\n",
    "                current_node = parent[current_node]\n",
    "            return path[::-1]\n",
    "        closed_set.add(current_node)\n",
    "\n",
    "        for neighbour, weight in graph[current_node]:\n",
    "            if neighbour in closed_set:\n",
    "                continue\n",
    "            tentative_g = g_cost[current_node]+weight\n",
    "            if neighbour not in closed_set or tentative_g<g_cost[neighbour]:\n",
    "                g_cost[neighbour] = tentative_g\n",
    "                f_cost = tentative_g + h(neighbour,goal)\n",
    "                parent[neighbour] = current_node\n",
    "                heapq.heappush(open_list,(f_cost,neighbour))\n",
    "    return None\n",
    "\n",
    "def heuristic(node, goal):\n",
    "    # Manhattan distance heuristic\n",
    "    return abs(node[0] - goal[0]) + abs(node[1] - goal[1])\n",
    "\n",
    "# Graph representation (adjacency list)\n",
    "graph = {\n",
    "    (0, 0): [((1, 0), 1), ((0, 1), 1)],\n",
    "    (1, 0): [((1, 1), 1), ((0, 0), 1)],\n",
    "    (0, 1): [((0, 0), 1), ((1, 1), 1)],\n",
    "    (1, 1): [((1, 0), 1), ((0, 1), 1)],\n",
    "}\n",
    "start = (0, 0)\n",
    "goal = (1, 1)\n",
    "path = a_star(graph, start, goal, heuristic)\n",
    "print(\"Path:\", path)"
   ]
  },
  {
   "cell_type": "code",
   "execution_count": 67,
   "id": "6b6a2a9f-9068-45f8-9ede-67781795eea0",
   "metadata": {},
   "outputs": [
    {
     "name": "stdout",
     "output_type": "stream",
     "text": [
      "Hill Climbing Path: ['A', 'B', 'E', 'G']\n"
     ]
    }
   ],
   "source": [
    "def hill_climbing_graph(graph, start, heuristic):\n",
    "    current = start\n",
    "    current_value = heuristic[current]\n",
    "    path = [current]\n",
    "    \n",
    "    while True:\n",
    "        neighbors = graph[current].keys()\n",
    "        best_neighbor = None\n",
    "        best_value = current_value\n",
    "        \n",
    "        for neighbor in neighbors:\n",
    "            if neighbor in path:\n",
    "                continue\n",
    "            \n",
    "            neighbor_value = heuristic[neighbor]\n",
    "            if neighbor_value > best_value:\n",
    "                best_neighbor = neighbor\n",
    "                best_value = neighbor_value\n",
    "                \n",
    "        if best_neighbor is None:\n",
    "            return path\n",
    "        current = best_neighbor\n",
    "        current_value = best_value\n",
    "        path.append(current)\n",
    "        \n",
    "graph = {\n",
    "    'A': {'B': 1, 'C': 4},\n",
    "    'B': {'A': 1, 'D': 2, 'E': 5},\n",
    "    'C': {'A': 4, 'F': 2},\n",
    "    'D': {'B': 2, 'G': 3},\n",
    "    'E': {'B': 5, 'G': 1},\n",
    "    'F': {'C': 2, 'G': 5},\n",
    "    'G': {'D': 3, 'E': 1, 'F': 5}\n",
    "}\n",
    "\n",
    "heuristic = {\n",
    "    'A': 1,\n",
    "    'B': 3,\n",
    "    'C': 2,\n",
    "    'D': 4,\n",
    "    'E': 5,\n",
    "    'F': 3,\n",
    "    'G': 7\n",
    "}\n",
    "\n",
    "result = hill_climbing_graph(graph, 'A', heuristic)\n",
    "print(\"Hill Climbing Path:\", result)"
   ]
  },
  {
   "cell_type": "code",
   "execution_count": 77,
   "id": "4cda2ba7-9f47-48ba-9cad-617b7ef4d991",
   "metadata": {},
   "outputs": [
    {
     "name": "stdout",
     "output_type": "stream",
     "text": [
      "Level 1, Beam size: 1\n",
      "Level 2, Beam size: 2\n",
      "Level 3, Beam size: 2\n",
      "Level 4, Beam size: 2\n",
      "Level 5, Beam size: 2\n",
      "Level 6, Beam size: 2\n",
      "Level 7, Beam size: 2\n",
      "Beam Search Result: Found 10 in 7 levels\n"
     ]
    }
   ],
   "source": [
    "def beam_search(start, expand, is_goal, evaluate, beam_width=3):\n",
    "    beam = [start]\n",
    "    \n",
    "    level = 0\n",
    "    while beam and level < 100:\n",
    "        level += 1\n",
    "        print(f\"Level {level}, Beam size: {len(beam)}\")\n",
    "        \n",
    "        candidates = []\n",
    "        \n",
    "        for state in beam:\n",
    "            if is_goal(state):\n",
    "                return state, level\n",
    "            \n",
    "            next_states = expand(state)\n",
    "            candidates.extend(next_states)\n",
    "        \n",
    "        if not candidates:\n",
    "            return None, level\n",
    "        \n",
    "        candidates.sort(key=evaluate, reverse=True)\n",
    "        beam = candidates[:beam_width]\n",
    "    \n",
    "    return None, level\n",
    "\n",
    "# Example problem - finding a specific number in a sequence\n",
    "def expand_number(n):\n",
    "    # Generate next possible numbers\n",
    "    return [n+1, n*2, n-1]\n",
    "\n",
    "def is_target(n, target=10):\n",
    "    # Check if we found the target\n",
    "    return n == target\n",
    "\n",
    "def evaluate_closeness(n, target=10):\n",
    "    # Evaluate how close a number is to the target\n",
    "    return -abs(n - target)  # Negative because higher values are better\n",
    "\n",
    "# Run the algorithm\n",
    "start_number = 0\n",
    "result, levels = beam_search(start_number, expand_number, is_target, evaluate_closeness, beam_width=2)\n",
    "print(f\"Beam Search Result: Found {result} in {levels} levels\")"
   ]
  },
  {
   "cell_type": "code",
   "execution_count": null,
   "id": "6793b92a-5dda-4319-b9e2-1221dc29a6b8",
   "metadata": {},
   "outputs": [],
   "source": []
  }
 ],
 "metadata": {
  "kernelspec": {
   "display_name": "Python 3 (ipykernel)",
   "language": "python",
   "name": "python3"
  },
  "language_info": {
   "codemirror_mode": {
    "name": "ipython",
    "version": 3
   },
   "file_extension": ".py",
   "mimetype": "text/x-python",
   "name": "python",
   "nbconvert_exporter": "python",
   "pygments_lexer": "ipython3",
   "version": "3.11.7"
  }
 },
 "nbformat": 4,
 "nbformat_minor": 5
}
